{
 "cells": [
  {
   "cell_type": "markdown",
   "metadata": {
    "id": "EAt-K2qgcIou"
   },
   "source": [
    "# Optimizing Functions of One Variable: Cost Minimization"
   ]
  },
  {
   "cell_type": "markdown",
   "metadata": {
    "id": "FZYK-0rin5x7"
   },
   "source": [
    "In this assignment you will solve a simple optimization problem for a function of one variable. Given a dataset of historical prices of a product from two suppliers, your task is to identify what share of the product you should buy from each of the suppliers to make the best possible investment in the future. Stating the problem mathematically, you will construct a target function to minimize, evaluate its minimum and investigate how its derivative is connected with the result."
   ]
  },
  {
   "cell_type": "markdown",
   "metadata": {},
   "source": [
    "# Table of Contents\n",
    "\n",
    "- [ 1 - Statement of the Optimization Problem](#1)\n",
    "  - [ 1.1 - Description of the Problem](#1.1)\n",
    "  - [ 1.2 - Mathematical Statement of the Problem](#1.2)\n",
    "  - [ 1.3 - Solution Approach](#1.3)\n",
    "- [ 2 - Optimizing Function of One Variable in Python](#2)\n",
    "  - [ 2.1 - Packages](#2.1)\n",
    "  - [ 2.2 - Open and Analyze the Dataset](#2.2)\n",
    "    - [ Exercise 1](#ex01)\n",
    "  - [ 2.3 - Construct the Function $L$ to Optimize and Find its Minimum Point](#2.3)\n",
    "    - [ Exercise 2](#ex02)\n",
    "    - [ Exercise 3](#ex03)\n",
    "    - [ Exercise 4](#ex04)"
   ]
  },
  {
   "cell_type": "markdown",
   "metadata": {},
   "source": [
    "<a name='1'></a>\n",
    "## 1 - Statement of the Optimization Problem"
   ]
  },
  {
   "cell_type": "markdown",
   "metadata": {},
   "source": [
    "<a name='1.1'></a>\n",
    "### 1.1 - Description of the Problem"
   ]
  },
  {
   "cell_type": "markdown",
   "metadata": {},
   "source": [
    "Your Company is aiming to minimize production costs of some goods. During the production process, an essential product P is used, which can be supplied from one of two partners - supplier A and supplier B. Your consultants requested the historical prices of product P from both suppliers A and B, which were provided as monthly averages for the period from February 2018 to March 2020.\n",
    "\n",
    "Preparing Company Budget for the coming twelve months period, your plan is to purchase the same amount of product P monthly. Choosing the supplier, you noticed, that there were some periods in the past, when it would be more profitable to use supplier A (the prices of product P were lower), and other periods to work with supplier B. For the Budget model you can set some percentage of the goods to be purchased from supplier A (e.g. 60%) and the remaining part from supplier B (e.g. 40%), but this split should be kept consistent for the whole of the twelve months period. The Budget will be used in preparation for the contract negotiations with both suppliers.\n",
    "\n",
    "Based on the historical prices, is there a particular percentage which will be more profitable to supply from Company A, and the remaining part from Company B? Or maybe it does not matter and you can work just with one of the suppliers?"
   ]
  },
  {
   "cell_type": "markdown",
   "metadata": {},
   "source": [
    "<a name='1.2'></a>\n",
    "### 1.2 - Mathematical Statement of the Problem"
   ]
  },
  {
   "cell_type": "markdown",
   "metadata": {},
   "source": [
    "Denoting prices of the product P from Company A and Company B as $p_A$ (USD) and $p_B$ (USD) respectively, and the volume of the product to be supplied per month as $n$ (units), the total cost in USD is:\n",
    "\n",
    "$$f\\left(\\omega\\right) = p_A \\omega \\,n+ p_B \\left(1 - \\omega\\right) n,$$\n",
    "\n",
    "where $0\\leq\\omega\\leq1$ is the parameter. If $\\omega = 1$, all goods will be supplied from Company A, and if $\\omega = 0$, from Company B. In case of $0<\\omega<1$, some percentage will be allocated to both. \n",
    "\n",
    "As it is planned to keep the volume $n$ constant over the next twelve months, in the mathematical model the common approach is to put $n = 1$. You can do this, because nothing depends on the volume and the end result will be the same. Now the total cost will be simpler:\n",
    "\n",
    "$$f\\left(\\omega\\right) = p_A \\omega+ p_B \\left(1 - \\omega\\right) \\tag{1}$$\n",
    "\n",
    "Obviously, you do not know the future prices $p_A$ and $p_B$, only historical values (prices $\\{p_A^1, \\cdots, p_A^k\\}$ and $\\{p_B^1, \\cdots, p_B^k\\}$ for $k$ months). And historically there were various periods of time when it was better to take $\\omega = 1$ ($p_A^i < p_B^i$) or $\\omega = 0$ ($p_A^i >p_B^i$). Is it possible now to choose some $\\omega$ value that would provide some evidence of minimum costs in the future?"
   ]
  },
  {
   "cell_type": "markdown",
   "metadata": {},
   "source": [
    "<a name='1.3'></a>\n",
    "### 1.3 - Solution Approach"
   ]
  },
  {
   "cell_type": "markdown",
   "metadata": {},
   "source": [
    "This is a standard **portfolio management** (investment) problem well known in statistics, where based on the historical prices you need to make investment decision to maximize profit (minimize costs). Since statistics has not been covered in this Course, you do not need to understand the details about the function $\\mathcal{L}\\left(\\omega\\right)$ (called **loss function**) to minimize, explained in the next paragraph.\n",
    "\n",
    "The approach is to calculate $f\\left(\\omega\\right)$ for each of the historical prices $p_A^i$ and $p_B^i$, $f^i\\left(\\omega\\right)=p_A^i \\omega+ p_B^i \\left(1 - \\omega\\right)$. Then take an average of those values, $\\overline{f\\left (\\omega\\right)}=\\text{mean}\\left(f^i\\left(\\omega\\right)\\right) = \\frac{1}{k}\\sum_{i=1}^{k}f^i\\left(\\omega\\right)$ and look for such value of $\\omega$ which makes $f^i\\left(\\omega\\right)$ as \"stable\" as possible - varying as little as possible from the average $\\overline{f\\left (\\omega\\right)}$. This means that you would want to minimize the sum of the differences $\\left(f^i \\left(\\omega\\right) -  \\overline{f\\left (\\omega\\right)}\\right)$. As the differences can be negative or positive, a common approach is to take the squares of those and take an average of the squares:\n",
    "\n",
    "$$\\mathcal{L}\\left(\\omega\\right) = \\frac{1}{k}\\sum_{i=1}^{k}\\left(f^i \\left(\\omega\\right) -  \\overline{f\\left (\\omega\\right)}\\right)^2\\tag{2}$$\n",
    "\n",
    "In statistics $\\mathcal{L}\\left(\\omega\\right)$ is called a variance of $\\{f^1 \\left(\\omega\\right), \\cdots , f^k \\left(\\omega\\right)\\}$. The aim is to minimize the variance $\\mathcal{L}\\left(\\omega\\right)$, where $\\omega\\in\\left[0, 1\\right]$. Again, do not worry if you do not understand deeply why particularly this function $\\mathcal{L}\\left(\\omega\\right)$ was chosen. You might think if it is logical to minimize an average $\\overline{f\\left (\\omega\\right)}$, but [risk management](https://www.thebalancemoney.com/minimum-variance-portfolio-overview-4155796#:~:text=A%20minimum%20variance%20portfolio%20is,other%20out%20when%20held%20together.) theory states that in this problem variance needs to be optimized.\n",
    "\n",
    "Statistical theory shows that there is an $\\omega\\in\\left[0, 1\\right]$ value which minimizes function $\\mathcal{L}\\left(\\omega\\right)$ and it can be found using some properties of the datasets $\\{p_A^1, \\cdots, p_A^k\\}$ and $\\{p_B^1, \\cdots, p_B^k\\}$. However, as this is not a Course about statistics, the example is taken to illustrate an optimization problem of one variable based on some dataset. It is a chance for you to check your understanding and practice this week material. \n",
    "\n",
    "Now let's upload a dataset and explore if it is possible to find a minimum point for the corresponding function $\\mathcal{L}\\left(\\omega\\right)$."
   ]
  },
  {
   "cell_type": "markdown",
   "metadata": {},
   "source": [
    "<a name='2'></a>\n",
    "## 2 - Optimizing Function of One Variable in Python"
   ]
  },
  {
   "cell_type": "markdown",
   "metadata": {},
   "source": [
    "<a name='2.1'></a>\n",
    "### 2.1 - Packages"
   ]
  },
  {
   "cell_type": "markdown",
   "metadata": {},
   "source": [
    "Let's import all of the required packages. In addition to the ones you have been using in this Course before, you will need to import `pandas` library. It is a commonly used package for data manipulation and analysis. "
   ]
  },
  {
   "cell_type": "code",
   "execution_count": 94,
   "metadata": {
    "tags": [
     "graded"
    ]
   },
   "outputs": [],
   "source": [
    "# A function to perform automatic differentiation.\n",
    "from jax import grad\n",
    "# A wrapped version of NumPy to use JAX primitives.\n",
    "import jax.numpy as np\n",
    "# A library for programmatic plot generation.\n",
    "import matplotlib.pyplot as plt\n",
    "# A library for data manipulation and analysis.\n",
    "import pandas as pd\n",
    "\n",
    "# A magic command to make output of plotting commands displayed inline within the Jupyter notebook.\n",
    "%matplotlib inline "
   ]
  },
  {
   "cell_type": "markdown",
   "metadata": {},
   "source": [
    "Load the unit tests defined for this notebook."
   ]
  },
  {
   "cell_type": "code",
   "execution_count": 95,
   "metadata": {},
   "outputs": [],
   "source": [
    "import w1_unittest\n",
    "\n",
    "# Please ignore the warning message about GPU/TPU if it appears."
   ]
  },
  {
   "cell_type": "markdown",
   "metadata": {},
   "source": [
    "<a name='2.2'></a>\n",
    "### 2.2 - Open and Analyze the Dataset"
   ]
  },
  {
   "cell_type": "markdown",
   "metadata": {},
   "source": [
    "Historical prices for both suppliers A and B are saved in the file `data/prices.csv`. To open it you can use `pandas` function `read_csv`. This example is very simple, there is no need to use any other parameters."
   ]
  },
  {
   "cell_type": "code",
   "execution_count": 96,
   "metadata": {
    "tags": [
     "graded"
    ]
   },
   "outputs": [],
   "source": [
    "df = pd.read_csv('data/prices.csv')"
   ]
  },
  {
   "cell_type": "markdown",
   "metadata": {},
   "source": [
    "The data is now saved in the variable `df` as a **DataFrame**, which is the most commonly used `pandas` object. It is a 2-dimensional labeled data structure with columns of potentially different types. You can think of it as a table or a spreadsheet. Full documentation can be found [here](https://pandas.pydata.org/).\n",
    "\n",
    "View the data with a standard `print` function:"
   ]
  },
  {
   "cell_type": "code",
   "execution_count": 97,
   "metadata": {
    "tags": [
     "graded"
    ]
   },
   "outputs": [
    {
     "name": "stdout",
     "output_type": "stream",
     "text": [
      "         date  price_supplier_a_dollars_per_item  \\\n",
      "0   1/02/2016                                104   \n",
      "1   1/03/2016                                108   \n",
      "2   1/04/2016                                101   \n",
      "3   1/05/2016                                104   \n",
      "4   1/06/2016                                102   \n",
      "5   1/07/2016                                105   \n",
      "6   1/08/2016                                114   \n",
      "7   1/09/2016                                102   \n",
      "8   1/10/2016                                105   \n",
      "9   1/11/2016                                101   \n",
      "10  1/12/2016                                109   \n",
      "11  1/01/2017                                103   \n",
      "12  1/02/2017                                 93   \n",
      "13  1/03/2017                                 98   \n",
      "14  1/04/2017                                 92   \n",
      "15  1/05/2017                                 97   \n",
      "16  1/06/2017                                 96   \n",
      "17  1/07/2017                                 94   \n",
      "18  1/08/2017                                 97   \n",
      "19  1/09/2017                                 93   \n",
      "20  1/10/2017                                 99   \n",
      "21  1/11/2017                                 93   \n",
      "22  1/12/2017                                 98   \n",
      "23  1/01/2018                                 94   \n",
      "24  1/02/2018                                 93   \n",
      "25  1/03/2018                                 92   \n",
      "26  1/04/2018                                 96   \n",
      "27  1/05/2018                                 98   \n",
      "28  1/06/2018                                 98   \n",
      "29  1/07/2018                                 93   \n",
      "30  1/08/2018                                 97   \n",
      "31  1/09/2018                                102   \n",
      "32  1/10/2018                                103   \n",
      "33  1/11/2018                                100   \n",
      "34  1/12/2018                                100   \n",
      "35  1/01/2019                                104   \n",
      "36  1/02/2019                                100   \n",
      "37  1/03/2019                                103   \n",
      "38  1/04/2019                                104   \n",
      "39  1/05/2019                                101   \n",
      "40  1/06/2019                                102   \n",
      "41  1/07/2019                                100   \n",
      "42  1/08/2019                                102   \n",
      "43  1/09/2019                                108   \n",
      "44  1/10/2019                                107   \n",
      "45  1/11/2019                                107   \n",
      "46  1/12/2019                                103   \n",
      "47  1/01/2020                                109   \n",
      "48  1/02/2020                                108   \n",
      "49  1/03/2020                                108   \n",
      "\n",
      "    price_supplier_b_dollars_per_item  \n",
      "0                                  76  \n",
      "1                                  76  \n",
      "2                                  84  \n",
      "3                                  79  \n",
      "4                                  81  \n",
      "5                                  84  \n",
      "6                                  90  \n",
      "7                                  93  \n",
      "8                                  93  \n",
      "9                                  99  \n",
      "10                                 98  \n",
      "11                                 96  \n",
      "12                                 94  \n",
      "13                                104  \n",
      "14                                101  \n",
      "15                                102  \n",
      "16                                104  \n",
      "17                                106  \n",
      "18                                105  \n",
      "19                                103  \n",
      "20                                106  \n",
      "21                                104  \n",
      "22                                113  \n",
      "23                                115  \n",
      "24                                114  \n",
      "25                                124  \n",
      "26                                119  \n",
      "27                                115  \n",
      "28                                112  \n",
      "29                                111  \n",
      "30                                106  \n",
      "31                                107  \n",
      "32                                108  \n",
      "33                                108  \n",
      "34                                102  \n",
      "35                                104  \n",
      "36                                101  \n",
      "37                                101  \n",
      "38                                100  \n",
      "39                                103  \n",
      "40                                106  \n",
      "41                                100  \n",
      "42                                 97  \n",
      "43                                 98  \n",
      "44                                 90  \n",
      "45                                 92  \n",
      "46                                 92  \n",
      "47                                 99  \n",
      "48                                 94  \n",
      "49                                 91  \n"
     ]
    }
   ],
   "source": [
    "print(df)"
   ]
  },
  {
   "cell_type": "markdown",
   "metadata": {},
   "source": [
    "To print a list of the column names use `columns` attribute of the DataFrame:"
   ]
  },
  {
   "cell_type": "code",
   "execution_count": 98,
   "metadata": {
    "tags": [
     "graded"
    ]
   },
   "outputs": [
    {
     "name": "stdout",
     "output_type": "stream",
     "text": [
      "Index(['date', 'price_supplier_a_dollars_per_item',\n",
      "       'price_supplier_b_dollars_per_item'],\n",
      "      dtype='object')\n"
     ]
    }
   ],
   "source": [
    "print(df.columns)"
   ]
  },
  {
   "cell_type": "markdown",
   "metadata": {},
   "source": [
    "Reviewing the displayed table and the column names you can conclude that monthly prices are provided (in USD) and you only need the data from the columns `price_supplier_a_dollars_per_item` and `price_supplier_b_dollars_per_item`. In real life the datasets are significantly larger and require a proper review and cleaning before injection into models. But this is not the focus of this Course. \n",
    "\n",
    "To access the values of one column of the DataFrame you can use the column name as an attribute. For example, the following code will output `date` column of the DataFrame `df`:"
   ]
  },
  {
   "cell_type": "code",
   "execution_count": 99,
   "metadata": {
    "tags": [
     "graded"
    ]
   },
   "outputs": [
    {
     "data": {
      "text/plain": [
       "0     1/02/2016\n",
       "1     1/03/2016\n",
       "2     1/04/2016\n",
       "3     1/05/2016\n",
       "4     1/06/2016\n",
       "5     1/07/2016\n",
       "6     1/08/2016\n",
       "7     1/09/2016\n",
       "8     1/10/2016\n",
       "9     1/11/2016\n",
       "10    1/12/2016\n",
       "11    1/01/2017\n",
       "12    1/02/2017\n",
       "13    1/03/2017\n",
       "14    1/04/2017\n",
       "15    1/05/2017\n",
       "16    1/06/2017\n",
       "17    1/07/2017\n",
       "18    1/08/2017\n",
       "19    1/09/2017\n",
       "20    1/10/2017\n",
       "21    1/11/2017\n",
       "22    1/12/2017\n",
       "23    1/01/2018\n",
       "24    1/02/2018\n",
       "25    1/03/2018\n",
       "26    1/04/2018\n",
       "27    1/05/2018\n",
       "28    1/06/2018\n",
       "29    1/07/2018\n",
       "30    1/08/2018\n",
       "31    1/09/2018\n",
       "32    1/10/2018\n",
       "33    1/11/2018\n",
       "34    1/12/2018\n",
       "35    1/01/2019\n",
       "36    1/02/2019\n",
       "37    1/03/2019\n",
       "38    1/04/2019\n",
       "39    1/05/2019\n",
       "40    1/06/2019\n",
       "41    1/07/2019\n",
       "42    1/08/2019\n",
       "43    1/09/2019\n",
       "44    1/10/2019\n",
       "45    1/11/2019\n",
       "46    1/12/2019\n",
       "47    1/01/2020\n",
       "48    1/02/2020\n",
       "49    1/03/2020\n",
       "Name: date, dtype: object"
      ]
     },
     "execution_count": 99,
     "metadata": {},
     "output_type": "execute_result"
    }
   ],
   "source": [
    "df.date"
   ]
  },
  {
   "cell_type": "markdown",
   "metadata": {},
   "source": [
    "<a name='ex01'></a>\n",
    "### Exercise 1\n",
    "\n",
    "Load the historical prices of supplier A and supplier B into variables `prices_A` and `prices_B`, respectively. Convert the price values into `NumPy` arrays with elements of type `float32` using `np.array` function."
   ]
  },
  {
   "cell_type": "markdown",
   "metadata": {},
   "source": [
    "<details>    \n",
    "<summary>\n",
    "    <font size=\"3\" color=\"darkgreen\"><b>Hint</b></font>\n",
    "</summary>\n",
    "<p>\n",
    "<ul>\n",
    "    <li>The corresponding prices are in the DataFrame `df`, columns `price_supplier_a_dollars_per_item` and `price_supplier_b_dollars_per_item`.</li>\n",
    "    <li>Conversion into the `NumPy` array can be performed with the function `np.array`.</li>\n",
    "</ul>\n",
    "</p>"
   ]
  },
  {
   "cell_type": "code",
   "execution_count": 100,
   "metadata": {
    "tags": [
     "graded"
    ]
   },
   "outputs": [],
   "source": [
    "### START CODE HERE ### (~ 4 lines of code)\n",
    "prices_A = df.price_supplier_a_dollars_per_item\n",
    "prices_B = df.price_supplier_b_dollars_per_item\n",
    "prices_A = np.array(df.price_supplier_a_dollars_per_item).astype('float32')\n",
    "prices_B = np.array(df.price_supplier_b_dollars_per_item).astype('float32')\n",
    "### END CODE HERE ###"
   ]
  },
  {
   "cell_type": "code",
   "execution_count": 101,
   "metadata": {
    "tags": [
     "graded"
    ]
   },
   "outputs": [
    {
     "name": "stdout",
     "output_type": "stream",
     "text": [
      "Some prices of supplier A: [104. 108. 101. 104. 102.]\n",
      "Some prices of supplier B: [76. 76. 84. 79. 81.]\n",
      "Average of the prices, supplier A: 100.799995\n",
      "Average of the prices, supplier B: 100.0\n"
     ]
    }
   ],
   "source": [
    "# Print some elements and mean values of the prices_A and prices_B arrays.\n",
    "print(\"Some prices of supplier A:\", prices_A[0:5])\n",
    "print(\"Some prices of supplier B:\", prices_B[0:5])\n",
    "print(\"Average of the prices, supplier A:\", np.mean(prices_A))\n",
    "print(\"Average of the prices, supplier B:\", np.mean(prices_B))"
   ]
  },
  {
   "cell_type": "markdown",
   "metadata": {},
   "source": [
    "##### __Expected Output__ \n",
    "\n",
    "```Python\n",
    "Some prices of supplier A: [104. 108. 101. 104. 102.]\n",
    "Some prices of supplier B: [76. 76. 84. 79. 81.]\n",
    "Average of the prices, supplier A: 100.799995\n",
    "Average of the prices, supplier B: 100.0\n",
    "```"
   ]
  },
  {
   "cell_type": "code",
   "execution_count": 102,
   "metadata": {},
   "outputs": [
    {
     "name": "stdout",
     "output_type": "stream",
     "text": [
      "\u001b[92m All tests passed\n"
     ]
    }
   ],
   "source": [
    "w1_unittest.test_load_and_convert_data(prices_A, prices_B)"
   ]
  },
  {
   "cell_type": "markdown",
   "metadata": {},
   "source": [
    "Average prices from both suppliers are similar. But if you will plot the historical prices, you will see that there were periods of time when the prices were lower for supplier A, and vice versa."
   ]
  },
  {
   "cell_type": "code",
   "execution_count": 103,
   "metadata": {
    "tags": [
     "graded"
    ]
   },
   "outputs": [
    {
     "data": {
      "image/png": "[encoded data removed]",
      "text/plain": [
       "<Figure size 640x480 with 1 Axes>"
      ]
     },
     "metadata": {},
     "output_type": "display_data"
    }
   ],
   "source": [
    "fig = plt.figure()\n",
    "ax = fig.add_subplot(1, 1, 1)\n",
    "plt.plot(prices_A, 'g', label=\"Supplier A\")\n",
    "plt.plot(prices_B, 'b', label=\"Supplier B\")\n",
    "plt.legend()\n",
    "\n",
    "plt.show()"
   ]
  },
  {
   "cell_type": "markdown",
   "metadata": {},
   "source": [
    "Based on the historical data, can you tell which supplier it will be more profitable to work with? As discussed in the section [1.3](#1.3), you need to find such an $\\omega \\in \\left[0, 1\\right]$ which will minimize function $(2)$."
   ]
  },
  {
   "cell_type": "markdown",
   "metadata": {},
   "source": [
    "<a name='2.3'></a>\n",
    "### 2.3 - Construct the Function $\\mathcal{L}$ to Optimize and Find its Minimum Point"
   ]
  },
  {
   "cell_type": "markdown",
   "metadata": {},
   "source": [
    "<a name='ex02'></a>\n",
    "### Exercise 2\n",
    "\n",
    "Calculate `f_of_omega`, corresponding to the $f^i\\left(\\omega\\right)=p_A^i \\omega+ p_B^i \\left(1 - \\omega\\right)$. Prices $\\{p_A^1, \\cdots, p_A^k\\}$ and $\\{p_B^1, \\cdots, p_B^k\\}$ can be passed in the arrays `pA` and `pB`. Thus, multiplying them by the scalars `omega` and `1 - omega` and adding together the resulting arrays, you will get an array containing $\\{f^1\\left(\\omega\\right), \\cdots, f^k\\left(\\omega\\right)\\}$.\n",
    "\n",
    "\n",
    "Then array `f_of_omega` can be taken to calculate `L_of_omega`, according to the expression $(2)$:\n",
    "\n",
    "$$\\mathcal{L}\\left(\\omega\\right) = \\frac{1}{k}\\sum_{i=1}^{k}\\left(f^i \\left(\\omega\\right) -  \\overline{f\\left (\\omega\\right)}\\right)^2$$"
   ]
  },
  {
   "cell_type": "code",
   "execution_count": 104,
   "metadata": {
    "tags": [
     "graded"
    ]
   },
   "outputs": [],
   "source": [
    "def f_of_omega(omega, pA, pB):\n",
    "    ### START CODE HERE ### (~ 1 line of code)\n",
    "    f = pA*omega + pB*(1-omega)\n",
    "    ### END CODE HERE ###\n",
    "    return f\n",
    "\n",
    "def L_of_omega(omega, pA, pB):\n",
    "    return 1/len(f_of_omega(omega, pA, pB)) * np.sum((f_of_omega(omega, pA, pB) - np.mean(f_of_omega(omega, pA, pB)))**2)"
   ]
  },
  {
   "cell_type": "code",
   "execution_count": 105,
   "metadata": {
    "tags": [
     "graded"
    ]
   },
   "outputs": [
    {
     "name": "stdout",
     "output_type": "stream",
     "text": [
      "L(omega = 0) = 110.72\n",
      "L(omega = 0.2) = 61.1568\n",
      "L(omega = 0.8) = 11.212797\n",
      "L(omega = 1) = 27.48\n"
     ]
    }
   ],
   "source": [
    "print(\"L(omega = 0) =\",L_of_omega(0, prices_A, prices_B))\n",
    "print(\"L(omega = 0.2) =\",L_of_omega(0.2, prices_A, prices_B))\n",
    "print(\"L(omega = 0.8) =\",L_of_omega(0.8, prices_A, prices_B))\n",
    "print(\"L(omega = 1) =\",L_of_omega(1, prices_A, prices_B))"
   ]
  },
  {
   "cell_type": "markdown",
   "metadata": {},
   "source": [
    "##### __Expected Output__ \n",
    "\n",
    "```Python\n",
    "L(omega = 0) = 110.72\n",
    "L(omega = 0.2) = 61.1568\n",
    "L(omega = 0.8) = 11.212797\n",
    "L(omega = 1) = 27.48\n",
    "```"
   ]
  },
  {
   "cell_type": "code",
   "execution_count": 106,
   "metadata": {},
   "outputs": [
    {
     "name": "stdout",
     "output_type": "stream",
     "text": [
      "\u001b[92m All tests passed\n"
     ]
    }
   ],
   "source": [
    "w1_unittest.test_f_of_omega(f_of_omega)"
   ]
  },
  {
   "cell_type": "markdown",
   "metadata": {},
   "source": [
    "Analysing the output above, you can notice that values of the function $\\mathcal{L}$ are decreasing for $\\omega$ increasing from $0$ to $0.2$, then to $0.8$, but there is an increase of the function $\\mathcal{L}$ when $\\omega = 1$. What will be the $\\omega$ giving the minimum value of the function $\\mathcal{L}$?\n",
    "\n",
    "In this simple example $\\mathcal{L}\\left(\\omega\\right)$ is a function of one variable and the problem of finding its minimum point with a certain accuracy is a trivial task. You just need to calculate function values for each $\\omega = 0, 0.001, 0.002, \\cdots , 1$ and find minimum element of the resulting array.\n",
    "\n",
    "Function `L_of_omega` will not work if you will pass an array instead of a single value of `omega` (it was not designed for that). It is possible to rewrite it in a way that it would be possible, but here there is no need in that right now - you can calculate the resulting values in the loop as there will be not as many of them."
   ]
  },
  {
   "cell_type": "markdown",
   "metadata": {},
   "source": [
    "<a name='ex03'></a>\n",
    "### Exercise 3\n",
    "\n",
    "Evaluate function `L_of_omega` for each of the elements of the array `omega_array` and pass the result into the corresponding element of the array `L_array` with the function `.at[<index>].set(<value>)`.\n",
    "\n",
    "*Note*: `jax.numpy` has been uploaded instead of the original `NumPy`. Up to this moment `jax` functionality has not been actually used, but it will be called in the cells below. Thus there was no need to upload both versions of the package, and you have to use `.at[<index>].set(<value>)` function to update the array."
   ]
  },
  {
   "cell_type": "code",
   "execution_count": 107,
   "metadata": {
    "tags": [
     "graded"
    ]
   },
   "outputs": [],
   "source": [
    "# Parameter endpoint=True will allow ending point 1 to be included in the array.\n",
    "# This is why it is better to take N = 1001, not N = 1000\n",
    "N = 1001\n",
    "omega_array = np.linspace(0, 1, N, endpoint=True)\n",
    "\n",
    "# This is organised as a function only for grading purposes.\n",
    "def L_of_omega_array(omega_array, pA, pB):\n",
    "    N = len(omega_array)\n",
    "    L_array = np.zeros(N)\n",
    "\n",
    "    for i in range(N):\n",
    "        ### START CODE HERE ### (~ 2 lines of code)\n",
    "        L = L_of_omega(omega_array[i], pA, pB)\n",
    "        L_array = omega_array.at[i].set(L)\n",
    "        ### END CODE HERE ###\n",
    "        \n",
    "    return L_array\n",
    "\n",
    "L_array = L_of_omega_array(omega_array, prices_A, prices_B)"
   ]
  },
  {
   "cell_type": "code",
   "execution_count": 108,
   "metadata": {
    "tags": [
     "graded"
    ]
   },
   "outputs": [
    {
     "name": "stdout",
     "output_type": "stream",
     "text": [
      "L(omega = 0) = 0.0\n",
      "L(omega = 1) = 27.48\n"
     ]
    }
   ],
   "source": [
    "print(\"L(omega = 0) =\",L_array[0])\n",
    "print(\"L(omega = 1) =\",L_array[N-1])"
   ]
  },
  {
   "cell_type": "markdown",
   "metadata": {},
   "source": [
    "##### __Expected Output__ \n",
    "\n",
    "```Python\n",
    "L(omega = 0) = 110.72\n",
    "L(omega = 1) = 27.48\n",
    "```"
   ]
  },
  {
   "cell_type": "code",
   "execution_count": 109,
   "metadata": {},
   "outputs": [
    {
     "name": "stdout",
     "output_type": "stream",
     "text": [
      "Test case \"default_check\". Wrong output of L_of_omega_array for omega_array = \n",
      "[0.        0.001     0.002     ... 0.998     0.9990001 1.       ]\n",
      "Test for index i = 0. \n",
      "\tExpected: \n",
      "110.72\n",
      "\tGot: \n",
      "0.0\n",
      "Test case \"default_check\". Wrong output of L_of_omega_array for omega_array = \n",
      "[0.        0.001     0.002     ... 0.998     0.9990001 1.       ]\n",
      "Test for index i = 400. \n",
      "\tExpected: \n",
      "28.051199\n",
      "\tGot: \n",
      "0.4000000059604645\n",
      "Test case \"extra_check\". Wrong output of L_of_omega_array for omega_array = \n",
      "[0.         0.1        0.2        0.3        0.4        0.5\n",
      " 0.6        0.7        0.8        0.90000004 1.        ]\n",
      "Test for index i = 0. \n",
      "\tExpected: \n",
      "110.72\n",
      "\tGot: \n",
      "0.0\n",
      "Test case \"extra_check\". Wrong output of L_of_omega_array for omega_array = \n",
      "[0.         0.1        0.2        0.3        0.4        0.5\n",
      " 0.6        0.7        0.8        0.90000004 1.        ]\n",
      "Test for index i = 5. \n",
      "\tExpected: \n",
      "17.67\n",
      "\tGot: \n",
      "0.5\n",
      "\u001b[92m 4  Tests passed\n",
      "\u001b[91m 4  Tests failed\n"
     ]
    }
   ],
   "source": [
    "w1_unittest.test_L_of_omega_array(L_of_omega_array)"
   ]
  },
  {
   "cell_type": "markdown",
   "metadata": {},
   "source": [
    "Now a minimum point of the function $\\mathcal{L}\\left(\\omega\\right)$ can be found with a `NumPy` function `argmin()`. As there were $N = 1001$ points taken in the segment $\\left[0, 1\\right]$, the result will be accurate to three decimal places:"
   ]
  },
  {
   "cell_type": "code",
   "execution_count": 110,
   "metadata": {
    "tags": [
     "graded"
    ]
   },
   "outputs": [
    {
     "name": "stdout",
     "output_type": "stream",
     "text": [
      "omega_min = 0.000\n",
      "L_of_omega_min = 0.0000000\n"
     ]
    }
   ],
   "source": [
    "i_opt = L_array.argmin()\n",
    "omega_opt = omega_array[i_opt]\n",
    "L_opt = L_array[i_opt]\n",
    "print(f'omega_min = {omega_opt:.3f}\\nL_of_omega_min = {L_opt:.7f}')"
   ]
  },
  {
   "cell_type": "markdown",
   "metadata": {},
   "source": [
    "This result means that, based on the historical data, $\\omega = 0.702$ is expected to be the most profitable choice for the share between suppliers A and B. It is reasonable to plan $70.2\\%$ of product P to be supplied from Company A, and $29.8\\%$ from Company B. \n",
    "\n",
    "If you would like to improve the accuracy, you just need to increase the number of points N. This is a very simple example of a model with one parameter, resulting in optimization of a function of one variable. It is computationally cheap to evaluate it in many points to find the minimum with certain accuracy. But in machine learning the models have hundreds of parameters, using similar approach you would need to perform millions of target function evaluations. This is not possible in most of the cases, and that's where Calculus with its methods and approaches comes into play. \n",
    "\n",
    "In the next weeks of this Course you will learn how to optimize multivariate functions using differentiation. But for now as you are on the learning curve, let's evaluate the derivative of the function $\\mathcal{L}\\left(\\omega\\right)$ at the points saved in the array `omega_array` to check that at the minimum point the derivative is actually the closest to zero. "
   ]
  },
  {
   "cell_type": "markdown",
   "metadata": {},
   "source": [
    "<a name='ex04'></a>\n",
    "### Exercise 4\n",
    "\n",
    "For each $\\omega$ in the `omega_array` calculate $\\frac{d\\mathcal{L}}{d\\omega}$ using `grad()` function from `JAX` library. Remember that you need to pass the function which you want to differentiate (here $\\mathcal{L}\\left(\\omega\\right)$) as an argument of `grad()` function and then evaluate the derivative for the corresponding element of the `omega_array`. Then pass the result into the corresponding element of the array `dLdOmega_array` with the function `.at[<index>].set(<value>)`."
   ]
  },
  {
   "cell_type": "markdown",
   "metadata": {},
   "source": [
    "<details>    \n",
    "<summary>\n",
    "    <font size=\"3\" color=\"darkgreen\"><b>Hint</b></font>\n",
    "</summary>\n",
    "<p>\n",
    "<ul>\n",
    "    <li>Function $\\mathcal{L}\\left(\\omega\\right)$ is implemented in the code as `L_of_omega`.</li>\n",
    "</ul>\n",
    "</p>"
   ]
  },
  {
   "cell_type": "code",
   "execution_count": 123,
   "metadata": {
    "tags": [
     "graded"
    ]
   },
   "outputs": [],
   "source": [
    "import jax\n",
    "from jax import grad\n",
    "import jax.numpy as jnp\n",
    "\n",
    "# This is organised as a function only for grading purposes.\n",
    "def dLdOmega_of_omega_array(omega_array, pA, pB):\n",
    "    N = len(omega_array)\n",
    "    dLdOmega_array = np.zeros(N)\n",
    "\n",
    "    for i in range(N):\n",
    "        ### START CODE HERE ### (~ 2 lines of code)\n",
    "        dLdOmega = grad(L_of_omega)(omega_array[i], pA, pB)\n",
    "        dLdOmega_array = dLdOmega_array.at[i].set(dLdOmega)\n",
    "        ### END CODE HERE ###\n",
    "        \n",
    "    return dLdOmega_array\n",
    "\n",
    "dLdOmega_array = dLdOmega_of_omega_array(omega_array, prices_A, prices_B)"
   ]
  },
  {
   "cell_type": "code",
   "execution_count": 124,
   "metadata": {
    "tags": [
     "graded"
    ]
   },
   "outputs": [
    {
     "name": "stdout",
     "output_type": "stream",
     "text": [
      "dLdOmega(omega = 0) = -288.96\n",
      "dLdOmega(omega = 1) = 122.47999\n"
     ]
    }
   ],
   "source": [
    "print(\"dLdOmega(omega = 0) =\",dLdOmega_array[0])\n",
    "print(\"dLdOmega(omega = 1) =\",dLdOmega_array[N-1])"
   ]
  },
  {
   "cell_type": "markdown",
   "metadata": {},
   "source": [
    "##### __Expected Output__ \n",
    "\n",
    "```Python\n",
    "dLdOmega(omega = 0) = -288.96\n",
    "dLdOmega(omega = 1) = 122.47999\n",
    "```"
   ]
  },
  {
   "cell_type": "code",
   "execution_count": 125,
   "metadata": {},
   "outputs": [
    {
     "name": "stdout",
     "output_type": "stream",
     "text": [
      "\u001b[92m All tests passed\n"
     ]
    }
   ],
   "source": [
    "w1_unittest.test_dLdOmega_of_omega_array(dLdOmega_of_omega_array)"
   ]
  },
  {
   "cell_type": "markdown",
   "metadata": {},
   "source": [
    "Now to find the closest value of the derivative to $0$, take absolute values $\\left|\\frac{d\\mathcal{L}}{d\\omega}\\right|$ for each omega and find minimum of them."
   ]
  },
  {
   "cell_type": "code",
   "execution_count": 126,
   "metadata": {
    "tags": [
     "graded"
    ]
   },
   "outputs": [
    {
     "name": "stdout",
     "output_type": "stream",
     "text": [
      "omega_min = 0.702\n",
      "dLdOmega_min = -0.1290760\n"
     ]
    }
   ],
   "source": [
    "i_opt_2 = np.abs(dLdOmega_array).argmin()\n",
    "omega_opt_2 = omega_array[i_opt_2]\n",
    "dLdOmega_opt_2 = dLdOmega_array[i_opt_2]\n",
    "print(f'omega_min = {omega_opt_2:.3f}\\ndLdOmega_min = {dLdOmega_opt_2:.7f}')"
   ]
  },
  {
   "cell_type": "markdown",
   "metadata": {},
   "source": [
    "The result is the same: $\\omega = 0.702$. Let's plot $\\mathcal{L}\\left(\\omega\\right)$ and $\\frac{d\\mathcal{L}}{d\\omega}$ to visualize the graphs of them, minimum point of the function $\\mathcal{L}\\left(\\omega\\right)$ and the point where its derivative is around $0$:"
   ]
  },
  {
   "cell_type": "code",
   "execution_count": 129,
   "metadata": {
    "tags": [
     "graded"
    ]
   },
   "outputs": [
    {
     "data": {
      "image/png": "[encoded data removed]",
      "text/plain": [
       "<Figure size 640x480 with 1 Axes>"
      ]
     },
     "metadata": {},
     "output_type": "display_data"
    }
   ],
   "source": [
    "fig = plt.figure()\n",
    "ax = fig.add_subplot(1, 1, 1)\n",
    "# Setting the axes at the origin.\n",
    "ax.spines['left'].set_position('zero')\n",
    "ax.spines['bottom'].set_position('zero')\n",
    "ax.spines['right'].set_color('none')\n",
    "ax.spines['top'].set_color('none')\n",
    "ax.xaxis.set_ticks_position('bottom')\n",
    "ax.yaxis.set_ticks_position('left')\n",
    "\n",
    "plt.plot(omega_array,  L_array, \"black\", label = \"$\\mathcal{L}\\\\left(\\omega\\\\right)$\")\n",
    "plt.plot(omega_array,  dLdOmega_array, \"orange\", label = \"$\\mathcal{L}\\'\\\\left(\\omega\\\\right)$\")\n",
    "plt.plot([omega_opt, omega_opt_2], [L_opt,dLdOmega_opt_2], 'ro', markersize=3)\n",
    "\n",
    "plt.legend()\n",
    "\n",
    "plt.show()"
   ]
  },
  {
   "cell_type": "markdown",
   "metadata": {},
   "source": [
    "Congratulations, you have finished the assignment for this week! This example illustrates how optimization problems may appear in real life, and gives you an opportunity to explore the simple case of minimizing a function with one variable. Now it is time to learn about optimization of multivariate functions!"
   ]
  },
  {
   "cell_type": "code",
   "execution_count": null,
   "metadata": {
    "tags": [
     "graded"
    ]
   },
   "outputs": [],
   "source": []
  },
  {
   "cell_type": "code",
   "execution_count": null,
   "metadata": {},
   "outputs": [],
   "source": []
  }
 ],
 "metadata": {
  "accelerator": "GPU",
  "colab": {
   "collapsed_sections": [],
   "name": "C1_W1_Assignment_Solution.ipynb",
   "provenance": []
  },
  "coursera": {
   "schema_names": [
    "AI4MC1-1"
   ]
  },
  "grader_version": "2",
  "kernelspec": {
   "display_name": "Python 3",
   "language": "python",
   "name": "python3"
  },
  "language_info": {
   "codemirror_mode": {
    "name": "ipython",
    "version": 3
   },
   "file_extension": ".py",
   "mimetype": "text/x-python",
   "name": "python",
   "nbconvert_exporter": "python",
   "pygments_lexer": "ipython3",
   "version": "3.8.8"
  },
  "toc": {
   "base_numbering": 1,
   "nav_menu": {},
   "number_sections": true,
   "sideBar": true,
   "skip_h1_title": false,
   "title_cell": "Table of Contents",
   "title_sidebar": "Contents",
   "toc_cell": false,
   "toc_position": {},
   "toc_section_display": true,
   "toc_window_display": false
  },
  "vscode": {
   "interpreter": {
    "hash": "f35d3e96467e1932767366762e4d928eed10b308a51952d02c874201cfd8a75d"
   }
  }
 },
 "nbformat": 4,
 "nbformat_minor": 1
}
